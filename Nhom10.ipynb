{
 "cells": [
  {
   "cell_type": "markdown",
   "metadata": {},
   "source": [
    "#### Thêm các thư viện cần thiết"
   ]
  },
  {
   "cell_type": "code",
   "execution_count": null,
   "metadata": {},
   "outputs": [],
   "source": [
    "import pandas as pd\n",
    "import matplotlib.pyplot as plt\n",
    "import seaborn as sns\n",
    "from sklearn.impute import SimpleImputer\n",
    "from sklearn.model_selection import train_test_split\n",
    "from sklearn.preprocessing import MinMaxScaler\n",
    "from sklearn.metrics import mean_squared_error\n",
    "from sklearn.linear_model import LinearRegression"
   ]
  },
  {
   "cell_type": "markdown",
   "metadata": {},
   "source": [
    "#### Thêm dữ liệu và xem tổng quan dữ liệu"
   ]
  },
  {
   "cell_type": "code",
   "execution_count": null,
   "metadata": {},
   "outputs": [],
   "source": [
    "duLieuBanDau = pd.read_csv('HousingData.csv')\n",
    "df = duLieuBanDau.copy()\n",
    "print(df)"
   ]
  },
  {
   "cell_type": "code",
   "execution_count": null,
   "metadata": {},
   "outputs": [],
   "source": [
    "df.info()"
   ]
  },
  {
   "cell_type": "code",
   "execution_count": null,
   "metadata": {},
   "outputs": [],
   "source": [
    "df.describe()"
   ]
  },
  {
   "cell_type": "code",
   "execution_count": null,
   "metadata": {},
   "outputs": [],
   "source": [
    "df.columns"
   ]
  },
  {
   "cell_type": "markdown",
   "metadata": {},
   "source": [
    "#### Kiểm tra dữ liệu bị thiếu và bổ sung dữ liệu bị thiếu"
   ]
  },
  {
   "cell_type": "code",
   "execution_count": null,
   "metadata": {},
   "outputs": [],
   "source": [
    "df.isnull()"
   ]
  },
  {
   "cell_type": "code",
   "execution_count": null,
   "metadata": {},
   "outputs": [],
   "source": [
    "df.isnull().sum()"
   ]
  },
  {
   "cell_type": "code",
   "execution_count": null,
   "metadata": {},
   "outputs": [],
   "source": [
    "cotSo = [\n",
    "    'CRIM',\n",
    "    'ZN',\n",
    "    'INDUS',\n",
    "    'AGE',\n",
    "    'LSTAT'\n",
    "]\n",
    "\n",
    "boSungGiaTri = SimpleImputer(strategy='mean')\n",
    "df[cotSo] = boSungGiaTri.fit_transform(df[cotSo])"
   ]
  },
  {
   "cell_type": "code",
   "execution_count": null,
   "metadata": {},
   "outputs": [],
   "source": [
    "cotPhanLoai = ['CHAS']\n",
    "\n",
    "boSungGiaTriPhanLoai = SimpleImputer(strategy='most_frequent')\n",
    "df[cotPhanLoai] = boSungGiaTriPhanLoai.fit_transform(df[cotPhanLoai])"
   ]
  },
  {
   "cell_type": "code",
   "execution_count": null,
   "metadata": {},
   "outputs": [],
   "source": [
    "df.info()"
   ]
  },
  {
   "cell_type": "markdown",
   "metadata": {},
   "source": [
    "#### Minh hoạ bằng biểu đồ"
   ]
  },
  {
   "cell_type": "code",
   "execution_count": null,
   "metadata": {},
   "outputs": [],
   "source": [
    "cacCot = [\n",
    "            'CRIM',\n",
    "            'ZN',\n",
    "            'INDUS',\n",
    "            'CHAS',\n",
    "            'NOX',\n",
    "            'RM',\n",
    "            'AGE',\n",
    "            'DIS',\n",
    "            'RAD',\n",
    "            'TAX',\n",
    "            'PTRATIO',\n",
    "            'B',\n",
    "            'LSTAT',\n",
    "            'MEDV'\n",
    "        ]\n",
    "\n",
    "for cot in cacCot:\n",
    "    plt.figure(figsize=(10, 6))\n",
    "    sns.boxplot(y=cot, data=df)\n",
    "    plt.title(f'Biểu đồ hộp của {cot}')\n",
    "    plt.ylabel(cot)\n",
    "    plt.grid(True)\n",
    "    plt.show()"
   ]
  },
  {
   "cell_type": "code",
   "execution_count": null,
   "metadata": {},
   "outputs": [],
   "source": [
    "for cot in cacCot:\n",
    "    plt.figure(figsize=(10, 6))\n",
    "    sns.histplot(x=cot, data=df)\n",
    "    plt.title(f'Biểu đồ histogram của {cot}')\n",
    "    plt.xlabel(cot)\n",
    "    plt.ylabel('Tần suất')\n",
    "    plt.show()"
   ]
  },
  {
   "cell_type": "markdown",
   "metadata": {},
   "source": [
    "#### Chuẩn hoá dữ liệu"
   ]
  },
  {
   "cell_type": "code",
   "execution_count": null,
   "metadata": {},
   "outputs": [],
   "source": [
    "cacCotCanChuanHoa = [\n",
    "    'CRIM',\n",
    "    'ZN',\n",
    "    'TAX',\n",
    "    'B'\n",
    "]\n",
    "\n",
    "chuanHoaMinMax = MinMaxScaler()\n",
    "\n",
    "df[cacCotCanChuanHoa] = chuanHoaMinMax.fit_transform(df[cacCotCanChuanHoa])\n",
    "\n",
    "print(\"Dữ liệu đã chuẩn hóa:\")\n",
    "print(df[cacCotCanChuanHoa].head())"
   ]
  },
  {
   "cell_type": "markdown",
   "metadata": {},
   "source": [
    "#### Ma trận tương quan"
   ]
  },
  {
   "cell_type": "code",
   "execution_count": null,
   "metadata": {},
   "outputs": [],
   "source": [
    "maTranTuongQuan = df.corr()\n",
    "\n",
    "plt.figure(figsize=(20, 10))\n",
    "\n",
    "sns.heatmap(maTranTuongQuan, annot=True, cmap='coolwarm')\n",
    "\n",
    "plt.show()"
   ]
  },
  {
   "cell_type": "markdown",
   "metadata": {},
   "source": [
    "#### Chia dữ liệu thành biến đầu vào X và biến đầu ra Y"
   ]
  },
  {
   "cell_type": "code",
   "execution_count": null,
   "metadata": {},
   "outputs": [],
   "source": [
    "x = df.drop(columns=['RAD', 'MEDV'])\n",
    "y = df['MEDV']"
   ]
  },
  {
   "cell_type": "markdown",
   "metadata": {},
   "source": [
    "#### Chia dữ liệu thành tập huấn luyện và tập kiểm tra"
   ]
  },
  {
   "cell_type": "code",
   "execution_count": null,
   "metadata": {},
   "outputs": [],
   "source": [
    "x_train, x_test, y_train, y_test = train_test_split(x, y, test_size=0.2, random_state=42)\n",
    "\n",
    "# In ra kích thước của các tập dữ liệu\n",
    "print(\"Kích thước của x_train:\", x_train.shape)\n",
    "print(\"Kích thước của x_test:\", x_test.shape)\n",
    "print(\"Kích thước của y_train:\", y_train.shape)\n",
    "print(\"Kích thước của y_test:\", y_test.shape)"
   ]
  },
  {
   "cell_type": "markdown",
   "metadata": {},
   "source": [
    "#### Khởi tạo và huấn luyện mô hình"
   ]
  },
  {
   "cell_type": "code",
   "execution_count": null,
   "metadata": {},
   "outputs": [],
   "source": [
    "moHinh = LinearRegression()\n",
    "moHinh.fit(x_train, y_train)"
   ]
  },
  {
   "cell_type": "markdown",
   "metadata": {},
   "source": [
    "#### Dự đoán trên tập kiểm tra"
   ]
  },
  {
   "cell_type": "code",
   "execution_count": null,
   "metadata": {},
   "outputs": [],
   "source": [
    "duDoanGia = moHinh.predict(x_test)\n",
    "\n",
    "print(\"Giá nhà thực tế trên tập kiểm tra: \", y_test.values[:5])\n",
    "print(\"Giá nhà kiểm tra dự đoán: \", duDoanGia[:5])"
   ]
  },
  {
   "cell_type": "markdown",
   "metadata": {},
   "source": [
    "#### Tính toán chỉ số lỗi trung bình bình phương (Mean Squared Error - MSE)"
   ]
  },
  {
   "cell_type": "code",
   "execution_count": null,
   "metadata": {},
   "outputs": [],
   "source": [
    "chiSoLoiTrungBinhBinhPhuong = mean_squared_error(y_test, duDoanGia)\n",
    "print(f\"Chỉ số lỗi trung bình bình phương: {chiSoLoiTrungBinhBinhPhuong}\")"
   ]
  }
 ],
 "metadata": {
  "kernelspec": {
   "display_name": "Python 3",
   "language": "python",
   "name": "python3"
  },
  "language_info": {
   "codemirror_mode": {
    "name": "ipython",
    "version": 3
   },
   "file_extension": ".py",
   "mimetype": "text/x-python",
   "name": "python",
   "nbconvert_exporter": "python",
   "pygments_lexer": "ipython3",
   "version": "3.13.0"
  }
 },
 "nbformat": 4,
 "nbformat_minor": 2
}
